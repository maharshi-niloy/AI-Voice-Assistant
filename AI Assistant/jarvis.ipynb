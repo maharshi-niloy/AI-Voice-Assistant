{
 "cells": [
  {
   "cell_type": "code",
   "execution_count": null,
   "metadata": {},
   "outputs": [],
   "source": [
    "from datetime import datetime\n",
    "import speech_recognition as sr\n",
    "import pyttsx3\n",
    "import webbrowser\n",
    "import requests"
   ]
  },
  {
   "cell_type": "code",
   "execution_count": null,
   "metadata": {},
   "outputs": [],
   "source": [
    "engine = pyttsx3.init()\n",
    "voices = engine.getProperty('voices')\n",
    "engine.setProperty('voices', voices[1].id)\n",
    "\n",
    "def say(text, rate = 120):\n",
    "    engine.setProperty('rate', rate)\n",
    "    print(text)\n",
    "    engine.say(text)\n",
    "    engine.runAndWait()"
   ]
  },
  {
   "cell_type": "code",
   "execution_count": null,
   "metadata": {},
   "outputs": [],
   "source": [
    "def takeCommand():\n",
    "    r = sr.Recognizer()\n",
    "    with sr.Microphone() as source:\n",
    "        r.pause_threshold = 0.6\n",
    "        audio = r.listen(source)\n",
    "        try:\n",
    "            print('Recoginizing...')\n",
    "            query = r.recognize_google(audio, language='en-us')\n",
    "            print(f'User said: {query}.')\n",
    "            return query\n",
    "        except Exception as e:\n",
    "            return 'Some Error Occured.'"
   ]
  },
  {
   "cell_type": "code",
   "execution_count": null,
   "metadata": {},
   "outputs": [],
   "source": [
    "def time():\n",
    "    hour = datetime.now().strftime('%#I')\n",
    "    min = datetime.now().strftime('%M')\n",
    "    if min == 00:\n",
    "        return f\"The time is {hour} O'Clock\"\n",
    "    elif min == 30:\n",
    "        return f\"The time is half past {hour}\"\n",
    "    elif min == 15:\n",
    "        return f\"The time is quater past {hour}\"\n",
    "    elif min == 45:\n",
    "        return f\"The time is quater to {hour+1}\"\n",
    "    else:\n",
    "        return f\"The time is {hour}:{min}\""
   ]
  },
  {
   "cell_type": "code",
   "execution_count": null,
   "metadata": {},
   "outputs": [],
   "source": [
    "def kelvin_to_celsius_farenheit(kelvin):\n",
    "    celsius = kelvin - 273.15\n",
    "    farenheit = celsius * (9/5) +32\n",
    "    return celsius, farenheit\n",
    "\n",
    "def weather(query):\n",
    "    BASE_URL = 'http://api.openweathermap.org/data/2.5/weather?'\n",
    "    API_KEY = 'a00090c8702742cab92391097c57b42d'\n",
    "    if query.split(' ')[-1] == 'now':\n",
    "        CITY = query.split(' ')[-2]\n",
    "    else:\n",
    "        CITY = query.split(' ')[-1]\n",
    "\n",
    "    url = BASE_URL + 'appid=' + API_KEY + '&q=' + CITY\n",
    "    response = requests.get(url).json()\n",
    "    print(response)\n",
    "\n",
    "    temp_kelvin = response['main']['temp']\n",
    "    temp_celsius, temp_farenheit = kelvin_to_celsius_farenheit(temp_kelvin)\n",
    "    feels_like_kelvin = response['main']['feels_like']\n",
    "    feels_like_celsius, feels_like_farenheit = kelvin_to_celsius_farenheit(feels_like_kelvin)\n",
    "    wind_speed = response['wind']['speed']\n",
    "    humidity = response['main']['humidity']\n",
    "    description = response['weather'][0]['description']\n",
    "    sunrise_time = datetime.utcfromtimestamp(response['sys']['sunrise'] + response['timezone'])\n",
    "    sunset_time = datetime.utcfromtimestamp(response['sys']['sunset'] + response['timezone'])\n",
    "    \n",
    "    if 'temperature' in query.lower():\n",
    "        return f'The temperature is {int(temp_celsius)} degrees celsius'\n",
    "    elif 'temperature in farenheit' in query.lower():\n",
    "        return f'The temperature is {int(temp_farenheit)} degrees farenheit'\n",
    "    elif 'temperature in kelvin' in query.lower():\n",
    "        return f'The temperature is {int(temp_kelvin)} kelvin'\n",
    "    elif 'temperature feels like' in query.lower():\n",
    "        return f'The temperature feels like {int(feels_like_celsius)} degrees celsius'\n",
    "    elif 'temperature feels like in farenheit' in query.lower():\n",
    "        return f'The temperature feels like {int(feels_like_farenheit)} degrees farenheit'\n",
    "    elif 'temperature feels like in kelvin' in query.lower():\n",
    "        return f'The temperature feels like {int(feels_like_kelvin)} kelvin'\n",
    "    elif 'humidity' in query.lower():\n",
    "        return f'The humidity is {humidity} percent'\n",
    "    elif 'sunrise time' in query.lower():\n",
    "        return f'The sunrise time is {sunrise_time.split(\" \")[1]}'\n",
    "    elif 'sunset time' in query.lower():\n",
    "        return f'The sunset time is {sunset_time.split(\" \")[1]}'\n",
    "    elif 'wind speed' in query.lower():\n",
    "        return f'The wind speed is {wind_speed} kilometers'\n",
    "    elif 'weather' in query.lower():\n",
    "        return f'It is {description}'\n"
   ]
  },
  {
   "cell_type": "code",
   "execution_count": null,
   "metadata": {},
   "outputs": [],
   "source": [
    "if __name__ == '__main__':\n",
    "    say('Hello, I am Jarvis AI')\n",
    "    while True:\n",
    "        print('Listening...')\n",
    "        query = takeCommand()\n",
    "        sites = [['youtube', 'https://www.youtube.com'],\n",
    "                 ['linkedin', 'https://www.linkedin.com'],\n",
    "                 ['facebook', 'https://www.facebook.com'],\n",
    "                 ['wikipedia', 'https://www.wikipedia.com'],\n",
    "                 ['google', 'https://www.google.com'],\n",
    "                 ['twitter', 'https://www.twitter.com'],\n",
    "                 ['instagram', 'https://www.instagram.com'],\n",
    "                 ['snapchat', 'https://www.snapchat.com'],\n",
    "                 ['quora', 'https://www.quora.com']]\n",
    "        for site in sites:\n",
    "            if f'Open {site[0]}' in query.lower():\n",
    "                say(f'Opening {site[0]}')\n",
    "                webbrowser.open(site[1])\n",
    "        if 'the time' in query.lower():\n",
    "            say(time())\n",
    "        elif 'temperature' or 'humidity' or 'wind speed' or 'feels like' or 'weather' or 'sunset time' or 'sunrise time' in query.lower():\n",
    "            say(weather(query))\n",
    "        elif 'exit' in query.lower():\n",
    "            say('Shutting down')\n",
    "            exit()"
   ]
  }
 ],
 "metadata": {
  "kernelspec": {
   "display_name": "Python 3",
   "language": "python",
   "name": "python3"
  },
  "language_info": {
   "codemirror_mode": {
    "name": "ipython",
    "version": 3
   },
   "file_extension": ".py",
   "mimetype": "text/x-python",
   "name": "python",
   "nbconvert_exporter": "python",
   "pygments_lexer": "ipython3",
   "version": "3.11.1"
  },
  "orig_nbformat": 4
 },
 "nbformat": 4,
 "nbformat_minor": 2
}
